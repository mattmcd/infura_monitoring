{
 "cells": [
  {
   "cell_type": "markdown",
   "metadata": {},
   "source": [
    "# Interacting with Uniswap v2\n",
    "This notebook connects to mainnet via an Infura hosted node and then interacts with DeFi contracts for\n",
    "* token exchange: [Uniswap](https://uniswap.org/docs/v2)\n",
    "* lending: [Aave](https://docs.aave.com/developers/)"
   ]
  },
  {
   "cell_type": "code",
   "execution_count": 1,
   "metadata": {},
   "outputs": [],
   "source": [
    "from infmon.eth import read_credentials, connect, get_contract"
   ]
  },
  {
   "cell_type": "code",
   "execution_count": 2,
   "metadata": {},
   "outputs": [],
   "source": [
    "from datetime import datetime"
   ]
  },
  {
   "cell_type": "markdown",
   "metadata": {},
   "source": [
    "Credentials are stored in a json file in home directory and read into an environment variable.  This is a simple mechanism for defining these parameters but should be replaced with something more secure in a server (or serverless) environment e.g. use AWS Parameter Store or GCP Secret Manager."
   ]
  },
  {
   "cell_type": "code",
   "execution_count": 3,
   "metadata": {},
   "outputs": [],
   "source": [
    "read_credentials('/home/mattmcd/.mattmcd')"
   ]
  },
  {
   "cell_type": "markdown",
   "metadata": {},
   "source": [
    "Running this notebook will incur gas costs if `spend_eth` is set to `True`.  Spending ETH is required if actual transactions on mainnet are performed."
   ]
  },
  {
   "cell_type": "code",
   "execution_count": 31,
   "metadata": {},
   "outputs": [],
   "source": [
    "spend_eth = False"
   ]
  },
  {
   "cell_type": "markdown",
   "metadata": {},
   "source": [
    "Connect to mainnet via Infura and set default account from local private key.  The [`construct_sign_and_send_raw_middleware`](https://web3py.readthedocs.io/en/stable/middleware.html#web3.middleware.construct_sign_and_send_raw_middleware) layer is used to simplify contract interactions."
   ]
  },
  {
   "cell_type": "code",
   "execution_count": 5,
   "metadata": {},
   "outputs": [],
   "source": [
    "w3 = connect()"
   ]
  },
  {
   "cell_type": "code",
   "execution_count": 6,
   "metadata": {},
   "outputs": [],
   "source": [
    "# w3.eth.getBlock('latest')"
   ]
  },
  {
   "cell_type": "markdown",
   "metadata": {},
   "source": [
    "# Contracts \n",
    "We make use of previously cached contract addresses and ABI details below.  To add new contracts call\n",
    "\n",
    "    get_contract(\n",
    "      name, \n",
    "      (optional) w3=w3, \n",
    "      address=contract_address, \n",
    "      (optional) abi=contract_abi\n",
    "    )\n",
    "  \n",
    "Etherscan is used to retrieve ABI if not specified however it appears this can be out of date sometimes (e.g. Aave Lending Pool)."
   ]
  },
  {
   "cell_type": "code",
   "execution_count": 7,
   "metadata": {},
   "outputs": [],
   "source": [
    "uniswap = get_contract('UniswapV2Router01', w3)"
   ]
  },
  {
   "cell_type": "code",
   "execution_count": 8,
   "metadata": {},
   "outputs": [],
   "source": [
    "dai = get_contract('DAI', w3)"
   ]
  },
  {
   "cell_type": "code",
   "execution_count": 9,
   "metadata": {},
   "outputs": [],
   "source": [
    "weth = get_contract('WETH', w3)"
   ]
  },
  {
   "cell_type": "code",
   "execution_count": 10,
   "metadata": {},
   "outputs": [],
   "source": [
    "acct = w3.eth.defaultAccount"
   ]
  },
  {
   "cell_type": "code",
   "execution_count": 11,
   "metadata": {},
   "outputs": [
    {
     "data": {
      "text/plain": [
       "[<Function WETH()>,\n",
       " <Function addLiquidity(address,address,uint256,uint256,uint256,uint256,address,uint256)>,\n",
       " <Function addLiquidityETH(address,uint256,uint256,uint256,address,uint256)>,\n",
       " <Function factory()>,\n",
       " <Function getAmountIn(uint256,uint256,uint256)>,\n",
       " <Function getAmountOut(uint256,uint256,uint256)>,\n",
       " <Function getAmountsIn(uint256,address[])>,\n",
       " <Function getAmountsOut(uint256,address[])>,\n",
       " <Function quote(uint256,uint256,uint256)>,\n",
       " <Function removeLiquidity(address,address,uint256,uint256,uint256,address,uint256)>,\n",
       " <Function removeLiquidityETH(address,uint256,uint256,uint256,address,uint256)>,\n",
       " <Function removeLiquidityETHWithPermit(address,uint256,uint256,uint256,address,uint256,bool,uint8,bytes32,bytes32)>,\n",
       " <Function removeLiquidityWithPermit(address,address,uint256,uint256,uint256,address,uint256,bool,uint8,bytes32,bytes32)>,\n",
       " <Function swapETHForExactTokens(uint256,address[],address,uint256)>,\n",
       " <Function swapExactETHForTokens(uint256,address[],address,uint256)>,\n",
       " <Function swapExactTokensForETH(uint256,uint256,address[],address,uint256)>,\n",
       " <Function swapExactTokensForTokens(uint256,uint256,address[],address,uint256)>,\n",
       " <Function swapTokensForExactETH(uint256,uint256,address[],address,uint256)>,\n",
       " <Function swapTokensForExactTokens(uint256,uint256,address[],address,uint256)>]"
      ]
     },
     "execution_count": 11,
     "metadata": {},
     "output_type": "execute_result"
    }
   ],
   "source": [
    "uniswap.all_functions()"
   ]
  },
  {
   "cell_type": "code",
   "execution_count": 14,
   "metadata": {},
   "outputs": [
    {
     "data": {
      "text/plain": [
       "'Dai Stablecoin'"
      ]
     },
     "execution_count": 14,
     "metadata": {},
     "output_type": "execute_result"
    }
   ],
   "source": [
    "dai.functions.name().call()"
   ]
  },
  {
   "cell_type": "code",
   "execution_count": 16,
   "metadata": {},
   "outputs": [
    {
     "data": {
      "text/plain": [
       "Decimal('0.543205686')"
      ]
     },
     "execution_count": 16,
     "metadata": {},
     "output_type": "execute_result"
    }
   ],
   "source": [
    "# ETH balance\n",
    "w3.fromWei(w3.eth.getBalance(acct), 'ether')"
   ]
  },
  {
   "cell_type": "code",
   "execution_count": 23,
   "metadata": {},
   "outputs": [
    {
     "data": {
      "text/plain": [
       "Decimal('10.245297536100762334')"
      ]
     },
     "execution_count": 23,
     "metadata": {},
     "output_type": "execute_result"
    }
   ],
   "source": [
    "# DAI balance\n",
    "w3.fromWei(dai.functions.balanceOf(acct).call(), 'ether')"
   ]
  },
  {
   "cell_type": "code",
   "execution_count": 17,
   "metadata": {},
   "outputs": [],
   "source": [
    "# Exchange rate from 1 ETH to DAI - NB: not stable, can be manipulated \n",
    "amounts_out = uniswap.functions.getAmountsOut(w3.toWei('1', 'ether'), [weth.address, dai.address]).call()\n",
    "ETHDAI = amounts_out[-1]/amounts_out[0]"
   ]
  },
  {
   "cell_type": "code",
   "execution_count": 18,
   "metadata": {},
   "outputs": [
    {
     "data": {
      "text/plain": [
       "203.65782710385744"
      ]
     },
     "execution_count": 18,
     "metadata": {},
     "output_type": "execute_result"
    }
   ],
   "source": [
    "ETHDAI"
   ]
  },
  {
   "cell_type": "code",
   "execution_count": 28,
   "metadata": {},
   "outputs": [
    {
     "name": "stdout",
     "output_type": "stream",
     "text": [
      "$7.128\n"
     ]
    }
   ],
   "source": [
    "# High gas price for fast transaction\n",
    "gas_price = w3.eth.gasPrice + w3.toWei(5, 'gwei')\n",
    "gas = 1_000_000\n",
    "price_USD = ETHDAI * float(w3.fromWei(gas*gas_price, 'ether'))\n",
    "print(f'${price_USD:0.4}')"
   ]
  },
  {
   "cell_type": "code",
   "execution_count": 29,
   "metadata": {},
   "outputs": [
    {
     "data": {
      "text/plain": [
       "1590343855"
      ]
     },
     "execution_count": 29,
     "metadata": {},
     "output_type": "execute_result"
    }
   ],
   "source": [
    "deadline = w3.toInt(datetime.utcnow().timestamp() + 10000)\n",
    "deadline\n",
    "# 1590334173\n",
    "# 1590333178"
   ]
  },
  {
   "cell_type": "code",
   "execution_count": 30,
   "metadata": {},
   "outputs": [],
   "source": [
    "tx_receipt = ''\n",
    "if spend_eth:\n",
    "    tx_receipt = uniswap.functions.swapExactETHForTokens(\n",
    "        w3.toWei('8', 'ether'), \n",
    "        [weth.address, dai.address],\n",
    "        acct,\n",
    "        deadline\n",
    "    ).transact(\n",
    "        {\n",
    "            'from': acct,\n",
    "            'value': w3.toWei(0.05, 'ether'),\n",
    "            'gas': gas,\n",
    "            'gasPrice': gas_price\n",
    "        }\n",
    "    )"
   ]
  },
  {
   "cell_type": "code",
   "execution_count": 32,
   "metadata": {},
   "outputs": [
    {
     "data": {
      "text/plain": [
       "HexBytes('0x0ae64f470438429aa17564a05b0c57b33d49ebb674a646deaae7992fc4f36944')"
      ]
     },
     "execution_count": 32,
     "metadata": {},
     "output_type": "execute_result"
    }
   ],
   "source": [
    "tx_receipt"
   ]
  },
  {
   "cell_type": "markdown",
   "metadata": {},
   "source": [
    "# Lending "
   ]
  },
  {
   "cell_type": "code",
   "execution_count": 33,
   "metadata": {},
   "outputs": [],
   "source": [
    "aave = get_contract('AaveLendingPool', w3)"
   ]
  },
  {
   "cell_type": "code",
   "execution_count": 34,
   "metadata": {},
   "outputs": [
    {
     "data": {
      "text/plain": [
       "[<Function LENDINGPOOL_REVISION()>,\n",
       " <Function UINT_MAX_VALUE()>,\n",
       " <Function addressesProvider()>,\n",
       " <Function core()>,\n",
       " <Function dataProvider()>,\n",
       " <Function parametersProvider()>,\n",
       " <Function initialize(address)>,\n",
       " <Function deposit(address,uint256,uint16)>,\n",
       " <Function redeemUnderlying(address,address,uint256,uint256)>,\n",
       " <Function borrow(address,uint256,uint256,uint16)>,\n",
       " <Function repay(address,uint256,address)>,\n",
       " <Function swapBorrowRateMode(address)>,\n",
       " <Function rebalanceStableBorrowRate(address,address)>,\n",
       " <Function setUserUseReserveAsCollateral(address,bool)>,\n",
       " <Function liquidationCall(address,address,address,uint256,bool)>,\n",
       " <Function flashLoan(address,address,uint256,bytes)>,\n",
       " <Function getReserveConfigurationData(address)>,\n",
       " <Function getReserveData(address)>,\n",
       " <Function getUserAccountData(address)>,\n",
       " <Function getUserReserveData(address,address)>,\n",
       " <Function getReserves()>]"
      ]
     },
     "execution_count": 34,
     "metadata": {},
     "output_type": "execute_result"
    }
   ],
   "source": [
    "aave.all_functions()"
   ]
  },
  {
   "cell_type": "code",
   "execution_count": null,
   "metadata": {},
   "outputs": [],
   "source": []
  }
 ],
 "metadata": {
  "kernelspec": {
   "display_name": "Python 3",
   "language": "python",
   "name": "python3"
  },
  "language_info": {
   "codemirror_mode": {
    "name": "ipython",
    "version": 3
   },
   "file_extension": ".py",
   "mimetype": "text/x-python",
   "name": "python",
   "nbconvert_exporter": "python",
   "pygments_lexer": "ipython3",
   "version": "3.7.5"
  }
 },
 "nbformat": 4,
 "nbformat_minor": 4
}
